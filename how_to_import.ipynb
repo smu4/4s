{
 "cells": [
  {
   "cell_type": "markdown",
   "metadata": {},
   "source": [
    "# how to import and use python library\n",
    "\n",
    "* 작업디렉토리를 정한다.\n",
    "* Python 파일 (.py)을 생성해서, 읽고 사용한다.\n",
    "* import 명령어로 존재하는 Python파일을 (.py) 라이브러리로 불러 사용한다."
   ]
  },
  {
   "cell_type": "code",
   "execution_count": 10,
   "metadata": {
    "collapsed": false
   },
   "outputs": [],
   "source": [
    "import os\n",
    "mywd=%pwd\n",
    "mych2wd=os.path.join(mywd,'Ch02')"
   ]
  },
  {
   "cell_type": "code",
   "execution_count": 27,
   "metadata": {
    "collapsed": false
   },
   "outputs": [
    {
     "name": "stdout",
     "output_type": "stream",
     "text": [
      "/home/jsl/Code/git/else/machinelearninginaction\n"
     ]
    }
   ],
   "source": [
    "%cd {mywd}"
   ]
  },
  {
   "cell_type": "code",
   "execution_count": 30,
   "metadata": {
    "collapsed": false
   },
   "outputs": [
    {
     "name": "stdout",
     "output_type": "stream",
     "text": [
      "Writing myknn.py\n"
     ]
    }
   ],
   "source": [
    "%%writefile myknn.py\n",
    "from numpy import *\n",
    "import operator\n",
    "\n",
    "def createDataSet():\n",
    "    group = array([[1.0,1.1],[1.0,1.0],[0,0],[0,0.1]]) # trainingSet\n",
    "    labels = ['A','A','B','B'] # labels\n",
    "    return group, labels"
   ]
  },
  {
   "cell_type": "code",
   "execution_count": 31,
   "metadata": {
    "collapsed": false
   },
   "outputs": [
    {
     "name": "stdout",
     "output_type": "stream",
     "text": [
      "myknn.py\r\n"
     ]
    }
   ],
   "source": [
    "!dir myknn.py"
   ]
  },
  {
   "cell_type": "code",
   "execution_count": 32,
   "metadata": {
    "collapsed": false
   },
   "outputs": [],
   "source": [
    "import myknn\n",
    "g,l=knn.createDataSet()"
   ]
  },
  {
   "cell_type": "code",
   "execution_count": 33,
   "metadata": {
    "collapsed": false
   },
   "outputs": [
    {
     "name": "stdout",
     "output_type": "stream",
     "text": [
      "[[ 1.   1.1]\n",
      " [ 1.   1. ]] ['A', 'A', 'B', 'B']\n"
     ]
    }
   ],
   "source": [
    "print g[:2],l[:5]"
   ]
  },
  {
   "cell_type": "code",
   "execution_count": 20,
   "metadata": {
    "collapsed": false
   },
   "outputs": [
    {
     "name": "stdout",
     "output_type": "stream",
     "text": [
      "/home/jsl/Code/git/else/machinelearninginaction/Ch02\n"
     ]
    }
   ],
   "source": [
    "%cd {mych2wd}"
   ]
  },
  {
   "cell_type": "code",
   "execution_count": 21,
   "metadata": {
    "collapsed": true
   },
   "outputs": [],
   "source": [
    "import kNN"
   ]
  },
  {
   "cell_type": "code",
   "execution_count": 22,
   "metadata": {
    "collapsed": false
   },
   "outputs": [
    {
     "name": "stdout",
     "output_type": "stream",
     "text": [
      "4\n"
     ]
    }
   ],
   "source": [
    "from numpy import *\n",
    "dataSet = array([[1.0,1.1],[1.0,1.0],[0,0],[0,0.1]])\n",
    "group = ['A','A','B','B']\n",
    "inX = [0,0]\n",
    "k = 3\n",
    "print dataSet.shape[0]"
   ]
  },
  {
   "cell_type": "code",
   "execution_count": 26,
   "metadata": {
    "collapsed": false
   },
   "outputs": [
    {
     "name": "stdout",
     "output_type": "stream",
     "text": [
      "[[  4.09200000e+04   8.32697600e+00   9.53952000e-01]\n",
      " [  1.44880000e+04   7.15346900e+00   1.67390400e+00]\n",
      " [  2.60520000e+04   1.44187100e+00   8.05124000e-01]\n",
      " [  7.51360000e+04   1.31473940e+01   4.28964000e-01]\n",
      " [  3.83440000e+04   1.66978800e+00   1.34296000e-01]] [3, 2, 1, 1, 1]\n"
     ]
    }
   ],
   "source": [
    "myMat, myVec=kNN.file2matrix('datingTestSet.txt')\n",
    "print myMat[:5], myVec[:5]"
   ]
  }
 ],
 "metadata": {
  "kernelspec": {
   "display_name": "Python 2",
   "language": "python",
   "name": "python2"
  },
  "language_info": {
   "codemirror_mode": {
    "name": "ipython",
    "version": 2
   },
   "file_extension": ".py",
   "mimetype": "text/x-python",
   "name": "python",
   "nbconvert_exporter": "python",
   "pygments_lexer": "ipython2",
   "version": "2.7.10"
  }
 },
 "nbformat": 4,
 "nbformat_minor": 0
}
